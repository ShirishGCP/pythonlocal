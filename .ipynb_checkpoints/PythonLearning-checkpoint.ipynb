{
 "cells": [
  {
   "cell_type": "markdown",
   "id": "c676734b-d367-4023-a2e3-f8b827145007",
   "metadata": {},
   "source": [
    "##  Printing the Output"
   ]
  },
  {
   "cell_type": "code",
   "execution_count": 10,
   "id": "9fa58c82-3194-4d29-8d2d-6b4a53619d4b",
   "metadata": {},
   "outputs": [
    {
     "name": "stdout",
     "output_type": "stream",
     "text": [
      "Hello World\n",
      "Student name is shirish and his age is 41\n",
      "Student name is shirish and his age is 41\n"
     ]
    }
   ],
   "source": [
    "print(\"Hello World\")\n",
    "name= \"shirish\"\n",
    "age = 41\n",
    "print('Student name is {n} and his age is {a}'.format(n=name,a=age))\n",
    "print(f'Student name is {name} and his age is {age}')"
   ]
  },
  {
   "cell_type": "markdown",
   "id": "65b82350-3f78-49f1-a06a-6c1f87c5457d",
   "metadata": {},
   "source": [
    "## Datatype - Number & String"
   ]
  },
  {
   "cell_type": "code",
   "execution_count": 5,
   "id": "5ce708ff-ae7e-4c08-89f6-3c92e9179582",
   "metadata": {},
   "outputs": [
    {
     "name": "stdout",
     "output_type": "stream",
     "text": [
      "2\n",
      "<class 'int'>\n",
      "2.0\n",
      "<class 'float'>\n",
      "Shirish\n",
      "<class 'str'>\n",
      "Shirish Umredkar\n",
      "<class 'str'>\n",
      "Shirish's Name\n",
      "<class 'str'>\n"
     ]
    }
   ],
   "source": [
    "a=2\n",
    "print(a)\n",
    "print(type(a))\n",
    "b=2.0\n",
    "print(b)\n",
    "print(type(b))\n",
    "c='Shirish'\n",
    "print(c)\n",
    "print(type(c))\n",
    "d=\"Shirish Umredkar\"\n",
    "print(d)\n",
    "print(type(d))\n",
    "e=\"Shirish's Name\"\n",
    "print(e)\n",
    "print(type(e))\n"
   ]
  },
  {
   "cell_type": "markdown",
   "id": "60f842c5-be54-4a0c-931c-2eb0e87a83c6",
   "metadata": {},
   "source": [
    "## String - Slicing & Dicing "
   ]
  },
  {
   "cell_type": "code",
   "execution_count": 7,
   "id": "70493738-95b8-48c2-9f26-8b3cb6206a65",
   "metadata": {},
   "outputs": [
    {
     "name": "stdout",
     "output_type": "stream",
     "text": [
      "Indexing\n",
      "Shirish Umredkar\n",
      "16\n",
      "S\n",
      "r\n",
      "Slicing\n",
      "Shirish\n",
      "Umredkar\n",
      "Umre\n",
      "SiihUrda\n",
      "rakdermU hsirihS\n"
     ]
    }
   ],
   "source": [
    "my_name=\"Shirish Umredkar\"\n",
    "print(\"Indexing\")\n",
    "print(my_name)\n",
    "print(len(my_name))\n",
    "print(my_name[0])\n",
    "print(my_name[-1])\n",
    "print(\"Slicing\")\n",
    "print(my_name[:7:])\n",
    "print(my_name[8::])\n",
    "print(my_name[8:12:])\n",
    "print(my_name[::2])\n",
    "print(my_name[::-1])"
   ]
  },
  {
   "cell_type": "markdown",
   "id": "e2d438f9-eedf-437d-a58f-8cf59af1f1df",
   "metadata": {},
   "source": [
    "## String - Method"
   ]
  },
  {
   "cell_type": "code",
   "execution_count": 8,
   "id": "75c6e890-5c4e-4ec0-a785-c208e98d50ce",
   "metadata": {},
   "outputs": [
    {
     "name": "stdout",
     "output_type": "stream",
     "text": [
      "3\n",
      "12\n",
      "SHIRISH UMREDKAR\n",
      "Shirish Umredkar\n",
      "shirish umredkar\n",
      "['Shirish', 'Umredkar,', '36']\n",
      "['Shirish Umredkar', ' 36']\n"
     ]
    }
   ],
   "source": [
    "a = 1\n",
    "b = 2\n",
    "c = a + b\n",
    "print(c)\n",
    "a = '1'\n",
    "b = '2'\n",
    "c = a + b\n",
    "print(c)\n",
    "a = 'Shirish Umredkar'\n",
    "print(a.upper())\n",
    "print(a)\n",
    "print(a.lower())\n",
    "b = 'Shirish Umredkar, 36'\n",
    "print(b.split())\n",
    "print(b.split(','))"
   ]
  },
  {
   "cell_type": "markdown",
   "id": "b7de4c52-fd4b-40fc-ac43-34845ae3dca4",
   "metadata": {},
   "source": [
    "## Datatype - List"
   ]
  },
  {
   "cell_type": "code",
   "execution_count": 13,
   "id": "70b33ec3-a556-4b4d-a268-301025395790",
   "metadata": {},
   "outputs": [
    {
     "name": "stdout",
     "output_type": "stream",
     "text": [
      "1\n",
      "[2]\n",
      "[3, 4]\n",
      "[1, 'Shirish', 'Umredkar', 3.2]\n",
      "[1, 2, 3, 4, 1, 'Shirish', 'Umredkar', 3.2]\n",
      "[1, 'SHIRISH', 'Umredkar', 3.2]\n",
      "[1, 'SHIRISH', 'Umredkar', 3.2, '4.5']\n",
      "SHIRISH\n",
      "[1, 'Umredkar', 3.2, '4.5']\n",
      "[1, 4, 5, 6, 7, 8]\n",
      "None\n",
      "[8, 7, 6, 5, 4, 1]\n"
     ]
    }
   ],
   "source": [
    "list1=[1,2,3,4]\n",
    "print (list1[0])\n",
    "print(list1[1:2])\n",
    "print(list1[2:])\n",
    "list2=[1,'Shirish',\"Umredkar\",3.2]\n",
    "print(list2)\n",
    "list3 = list1 + list2\n",
    "print(list3)\n",
    "list2[1]='SHIRISH'\n",
    "print(list2)\n",
    "list2.append('4.5')\n",
    "print(list2)\n",
    "list2_del=list2.pop(1)\n",
    "print(list2_del)\n",
    "print(list2)\n",
    "list4=[1,4,5,6,7,8]\n",
    "list5=list4.sort()\n",
    "print(list4)\n",
    "print(list5)\n",
    "list4.reverse()\n",
    "print(list4)"
   ]
  },
  {
   "cell_type": "markdown",
   "id": "9faa50d8-baef-4134-9a57-259fc37e2427",
   "metadata": {},
   "source": [
    "## Datatype - Dictionary"
   ]
  },
  {
   "cell_type": "code",
   "execution_count": 14,
   "id": "3cd5523d-b932-47ca-9d4e-d379fbb50f3f",
   "metadata": {},
   "outputs": [
    {
     "name": "stdout",
     "output_type": "stream",
     "text": [
      "{'key1': 'value1', 'key2': 'value2'}\n",
      "value1\n",
      "dict_keys(['key1', 'key2'])\n",
      "dict_values(['value1', 'value2'])\n",
      "dict_items([('key1', 'value1'), ('key2', 'value2')])\n",
      "{'key1': 'value1', 'key2': 'value2', 'key3': 'value3'}\n",
      "{'fruit': 'apple', 'price': 100, 'store': ['wadgaonsheri', 'viman nagar', 'kharadi']}\n",
      "apple\n",
      "100\n",
      "WADGAONSHERI\n"
     ]
    }
   ],
   "source": [
    "a={'key1':'value1','key2':'value2'}\n",
    "print(a)\n",
    "print(a['key1'])\n",
    "print(a.keys())\n",
    "print(a.values())\n",
    "print(a.items())\n",
    "a['key3']='value3'\n",
    "print(a)\n",
    "b={'fruit':'apple','price' : 100,'store' : ['wadgaonsheri','viman nagar','kharadi']}\n",
    "print(b)\n",
    "print(b['fruit'])\n",
    "print(b['price'])\n",
    "print(b['store'][0].upper())"
   ]
  },
  {
   "cell_type": "markdown",
   "id": "6cfbbe7e-7fd8-4d1f-b51d-d48b9fd3e8a3",
   "metadata": {},
   "source": [
    "## Datatype - Tuple"
   ]
  },
  {
   "cell_type": "code",
   "execution_count": 17,
   "id": "a0033bae-4e89-4c29-8ad9-8579fc6cc8d1",
   "metadata": {},
   "outputs": [
    {
     "name": "stdout",
     "output_type": "stream",
     "text": [
      "(1, 1, 3)\n",
      "[1, 2, 3]\n",
      "1\n",
      "1\n",
      "2\n",
      "0\n"
     ]
    }
   ],
   "source": [
    "a=(1,1,3)\n",
    "b=[1,2,3]\n",
    "print(a)\n",
    "print(b)\n",
    "print(a[0])\n",
    "print(b[0])\n",
    "b[0]=4\n",
    "print(a.count(1))\n",
    "print(a.index(1))\n",
    "#a[0]=4 "
   ]
  },
  {
   "cell_type": "markdown",
   "id": "fb8c4dc0-17f6-4514-ac3c-dddf6b2fb139",
   "metadata": {},
   "source": [
    "## Datatype - Set"
   ]
  },
  {
   "cell_type": "code",
   "execution_count": 18,
   "id": "e74cdad7-4c5f-44c5-8f74-46d0c98a3ece",
   "metadata": {},
   "outputs": [
    {
     "name": "stdout",
     "output_type": "stream",
     "text": [
      "{1, 2, 3}\n",
      "{1, 2, 3, 4}\n",
      "{1, 2, 3, 4}\n"
     ]
    }
   ],
   "source": [
    "a={1,2,3}\n",
    "print(a)\n",
    "a.add(4)\n",
    "print(a)\n",
    "a.add(4)\n",
    "print(a)"
   ]
  },
  {
   "cell_type": "markdown",
   "id": "b94c1298-9ccf-45f0-97d8-3a73e9e22d60",
   "metadata": {},
   "source": [
    "## Datatype - Boolean"
   ]
  },
  {
   "cell_type": "code",
   "execution_count": 19,
   "id": "b48ef6b9-dc01-42f9-943e-aa4ae0c78390",
   "metadata": {},
   "outputs": [
    {
     "name": "stdout",
     "output_type": "stream",
     "text": [
      "False\n",
      "True\n",
      "None\n",
      "<class 'NoneType'>\n"
     ]
    }
   ],
   "source": [
    "c=1>2\n",
    "print(c)\n",
    "c=1<2\n",
    "print(c)\n",
    "d=None\n",
    "print(d)\n",
    "print(type(d))"
   ]
  },
  {
   "cell_type": "markdown",
   "id": "93182e1e-8b55-4671-a25e-6bc04bf58062",
   "metadata": {},
   "source": [
    "## Datatype - Generic"
   ]
  },
  {
   "cell_type": "code",
   "execution_count": 24,
   "id": "4a9d5670-8c1d-4d90-863c-eb1ebc004e53",
   "metadata": {},
   "outputs": [
    {
     "name": "stdout",
     "output_type": "stream",
     "text": [
      "2\n",
      "{1, 2, 3, 4}\n"
     ]
    }
   ],
   "source": [
    "lista = [1,1,2,3,4]\n",
    "tuplea= tuple(lista)\n",
    "print(tuplea.count(1))\n",
    "seta=set(lista)\n",
    "print(seta)\n"
   ]
  },
  {
   "cell_type": "markdown",
   "id": "d08e1aaa-c086-41ed-bb54-d74ea92b88a1",
   "metadata": {},
   "source": [
    "## File Operation"
   ]
  },
  {
   "cell_type": "code",
   "execution_count": 15,
   "id": "0fb8803b-5e8b-4e8d-83a2-749e1273c40f",
   "metadata": {},
   "outputs": [
    {
     "name": "stdout",
     "output_type": "stream",
     "text": [
      "This is Only line\n",
      "This is Only line\n",
      "This is Only line\n",
      "This is appended line\n",
      "\n"
     ]
    }
   ],
   "source": [
    "with open('D:\\\\GCPLearning\\\\codebase\\\\pythonlocal\\\\inputfiles\\\\file_io.txt',mode='r') as fileiocheck:\n",
    "    content=fileiocheck.read()\n",
    "    print(content)\n",
    "    fileiocheck.seek(0)\n",
    "    content=fileiocheck.read()\n",
    "    print(content)\n",
    "with open('D:\\\\GCPLearning\\\\codebase\\\\pythonlocal\\\\inputfiles\\\\file_io.txt',mode='a') as fileappcheck:\n",
    "    fileappcheck.write('\\nThis is appended line')\n",
    "with open('D:\\\\GCPLearning\\\\codebase\\\\pythonlocal\\\\inputfiles\\\\file_io.txt',mode='r') as fileappcheck:\n",
    "    fileappcheck.seek(0)\n",
    "    content=fileappcheck.read()\n",
    "    print(content)\n",
    "with open('D:\\\\GCPLearning\\\\codebase\\\\pythonlocal\\\\inputfiles\\\\file_io.txt',mode='w+') as fileappcheck:\n",
    "    fileappcheck.write('This is Only line')\n",
    "    content=fileappcheck.read()\n",
    "    print(content)"
   ]
  },
  {
   "cell_type": "markdown",
   "id": "0bb4f780-dd11-4307-8d45-ec7fa3d0dd39",
   "metadata": {},
   "source": [
    "## Comparison & Logical Operator"
   ]
  },
  {
   "cell_type": "code",
   "execution_count": 17,
   "id": "19640104-d9d5-45ed-98d2-9732cd108efb",
   "metadata": {},
   "outputs": [
    {
     "name": "stdout",
     "output_type": "stream",
     "text": [
      "1\n",
      "2\n",
      "True\n",
      "False\n",
      "True\n",
      "False\n",
      "True\n",
      "True\n",
      "True\n",
      "False\n"
     ]
    }
   ],
   "source": [
    "a=1\n",
    "b=2\n",
    "c=a<b\n",
    "d=b<a\n",
    "e=a<=b\n",
    "f=b<=a\n",
    "g=a==a\n",
    "h=(a==a and b==b)\n",
    "i=(a==a or b==b)\n",
    "j=not(a==a or b==b)\n",
    "print(a)\n",
    "print(b)\n",
    "print(c)\n",
    "print(d)\n",
    "print(e)\n",
    "print(f)\n",
    "print(g)\n",
    "print(h)\n",
    "print(i)\n",
    "print(j)\n"
   ]
  },
  {
   "cell_type": "markdown",
   "id": "092a9c76-1311-4463-b69b-f7ba54f2587b",
   "metadata": {},
   "source": [
    "## Conditional Operator"
   ]
  },
  {
   "cell_type": "code",
   "execution_count": 19,
   "id": "87f4737d-427a-4f3b-8beb-3e9a2df7536d",
   "metadata": {},
   "outputs": [
    {
     "name": "stdout",
     "output_type": "stream",
     "text": [
      "b is greater then a\n"
     ]
    }
   ],
   "source": [
    "a=1\n",
    "b=2\n",
    "c=1\n",
    "if (a < b and b > a):\n",
    "\tprint('b is greater then a')\n",
    "elif ( c == a):\n",
    "\tprint('c is equal to a')\n",
    "else:\n",
    "\tprint('all is fine')"
   ]
  },
  {
   "cell_type": "markdown",
   "id": "7fc1af46-1472-4a0b-a706-571667cad705",
   "metadata": {},
   "source": [
    "## Control Flow - For Loop & Tuple-Dict Unpacking"
   ]
  },
  {
   "cell_type": "code",
   "execution_count": 21,
   "id": "cff41833-a40e-4148-9cf4-4858d49ede6f",
   "metadata": {},
   "outputs": [
    {
     "name": "stdout",
     "output_type": "stream",
     "text": [
      "S\n",
      "h\n",
      "i\n",
      "r\n",
      "i\n",
      "s\n",
      "h\n",
      " \n",
      "U\n",
      "m\n",
      "r\n",
      "e\n",
      "d\n",
      "k\n",
      "a\n",
      "r\n",
      "1\n",
      "2\n",
      "3\n",
      "1 is an odd number\n",
      "2 is an even number\n",
      "3 is an odd number\n",
      "4 is an even number\n",
      "5 is an odd number\n",
      "6 is an even number\n",
      "7 is an odd number\n",
      "8 is an even number\n",
      "9 is an odd number\n",
      "10 is an even number\n",
      "my name is Shirish\n",
      "my name is Shirish\n",
      "my name is Shirish\n",
      "my name is Shirish\n",
      "my name is Shirish\n",
      "my name is Shirish\n",
      "my name is Shirish\n",
      "1\n",
      "2\n",
      "3\n",
      "4\n",
      "5\n",
      "6\n",
      "7\n",
      "8\n",
      "9\n",
      "k1\n",
      "k2\n",
      "('k1', 11)\n",
      "('k2', 12)\n",
      "11\n",
      "12\n",
      "k1\n",
      "11\n",
      "k2\n",
      "12\n"
     ]
    }
   ],
   "source": [
    "my_string=\"Shirish Umredkar\"\n",
    "for str in my_string:\n",
    "\tprint(str)\n",
    "\n",
    "my_list=[1,2,3]\n",
    "for lst in my_list:\n",
    "\tprint(lst)\n",
    "\n",
    "my_even_odd=[1,2,3,4,5,6,7,8,9,10]\n",
    "for chk in my_even_odd:\n",
    "\tif chk % 2 ==0:\n",
    "\t\tprint(f'{chk} is an even number')\n",
    "\telse:\n",
    "\t\tprint(f'{chk} is an odd number')\t\n",
    "\n",
    "my_name=\"Shirish\"\n",
    "for _ in my_name:\n",
    "\tprint(f'my name is {my_name}')\t\n",
    "\n",
    "my_tup = (1,2,3)\n",
    "for tupl in my_tup:\n",
    "\tprint(tupl)\n",
    "\n",
    "my_list_tup = [(4,5,6),(7,8,9)]\t\n",
    "len(my_list_tup)\n",
    "for (a,b,c) in my_list_tup:\n",
    "\tprint(a)\n",
    "\tprint(b)\n",
    "\tprint(c)\n",
    "\n",
    "my_list_dict = {'k1':11,'k2':12}\n",
    "for list_dict in my_list_dict:\n",
    "\tprint(list_dict)\n",
    "\n",
    "my_list_dict = {'k1':11,'k2':12}\n",
    "for list_dict in my_list_dict.items():\n",
    "\tprint(list_dict)\n",
    "\t\t\n",
    "my_list_dict = {'k1':11,'k2':12}\n",
    "for list_dict in my_list_dict.values():\n",
    "\tprint(list_dict)\n",
    "\n",
    "my_list_dict = {'k1':11,'k2':12}\n",
    "for (key,value) in my_list_dict.items():\n",
    "\tprint(key)\n",
    "\tprint(value)\n"
   ]
  },
  {
   "cell_type": "markdown",
   "id": "adf4e75a-5786-46ba-8645-045ffcf6700a",
   "metadata": {},
   "source": [
    "## Control Flow - While loop [ Break Pass Continue ]"
   ]
  },
  {
   "cell_type": "code",
   "execution_count": 24,
   "id": "b05465a0-6eef-4fe0-bea8-468af2b9848f",
   "metadata": {},
   "outputs": [
    {
     "name": "stdout",
     "output_type": "stream",
     "text": [
      "Counter value is 10\n",
      "Counter value is 9\n",
      "Counter value is 8\n",
      "Counter value is 7\n",
      "Counter value is 6\n",
      "Counter value is 5\n",
      "Counter value is 4\n",
      "Counter value is 3\n",
      "Counter value is 2\n",
      "Counter value is 1\n",
      "inside break loop\n",
      "Counter break value is 10\n",
      "Counter break value is 9\n",
      "Counter break value is 8\n",
      "Counter break value is 7\n",
      "Counter break value is 6\n",
      "Counter break value is 5\n",
      "inside break\n",
      "outside break loop\n",
      "inside continue loop\n",
      "Counter continue value is 10\n",
      "Counter continue value is 9\n",
      "Counter continue value is 8\n",
      "Counter continue value is 7\n",
      "Counter continue value is 6\n",
      "inside continue\n",
      "Counter continue value is 4\n",
      "Counter continue value is 3\n",
      "Counter continue value is 2\n",
      "Counter continue value is 1\n",
      "outside continue loop\n"
     ]
    }
   ],
   "source": [
    "counter=10\n",
    "while counter>=1:\n",
    "\tprint(f'Counter value is {counter}')\n",
    "\tcounter = counter - 1\n",
    "\n",
    "print('inside break loop')\n",
    "counter=10\n",
    "while counter>=1:\n",
    "\tprint(f'Counter break value is {counter}')\n",
    "\tif counter == 5:\n",
    "\t\tprint('inside break')\n",
    "\t\tbreak\n",
    "\tcounter = counter - 1\t\n",
    "print('outside break loop')\n",
    "\n",
    "print('inside continue loop')\n",
    "counter=10\n",
    "while counter>=1:\n",
    "\tif counter == 5:\n",
    "\t\tprint('inside continue')\n",
    "\t\tcounter = counter - 1\n",
    "\t\tcontinue\n",
    "\telse:\t\n",
    "\t\tprint(f'Counter continue value is {counter}')\n",
    "\tcounter = counter - 1\n",
    "print('outside continue loop')\n",
    "\n",
    "counter=10\n",
    "while counter<=1:\t\n",
    "\tpass\t\t\t"
   ]
  },
  {
   "cell_type": "markdown",
   "id": "01039137-649e-4991-97a3-63c029bdad09",
   "metadata": {},
   "source": [
    "## Other Useful Operator"
   ]
  },
  {
   "cell_type": "code",
   "execution_count": 25,
   "id": "865054e1-8c73-405b-8b57-f48c18211667",
   "metadata": {},
   "outputs": [
    {
     "name": "stdout",
     "output_type": "stream",
     "text": [
      "1\n",
      "3\n",
      "5\n",
      "7\n",
      "9\n",
      "0\n",
      "s\n",
      "1\n",
      "h\n",
      "2\n",
      "i\n",
      "3\n",
      "r\n",
      "4\n",
      "i\n",
      "5\n",
      "s\n",
      "6\n",
      "h\n",
      "True\n",
      "1\n",
      "4\n",
      "2\n",
      "5\n",
      "3\n",
      "6\n",
      "False\n",
      "False\n",
      "True\n",
      "10\n",
      "30\n",
      "[1, 7, 8, 6, 5, 9, 2, 4, 3]\n",
      "[4, 6, 7, 5, 8, 3, 1, 9, 2]\n",
      "7\n",
      "9\n"
     ]
    },
    {
     "name": "stdin",
     "output_type": "stream",
     "text": [
      "Enter your name: SHirish\n"
     ]
    },
    {
     "name": "stdout",
     "output_type": "stream",
     "text": [
      "SHirish\n",
      "10\n",
      "10.0\n",
      "10\n"
     ]
    }
   ],
   "source": [
    "for lst in range(1,11,2):\n",
    "\tprint(lst)\n",
    "\n",
    "my_name='shirish'\n",
    "for (index,val) in enumerate(my_name):\n",
    "\tprint(index)\t\n",
    "\tprint(val)\n",
    "\n",
    "str=\"shirish\"\n",
    "out='s' in str\n",
    "print(out)\n",
    "\n",
    "a=[1,2,3]\n",
    "b=[4,5,6,7,8]\n",
    "dzip = zip(a,b)\n",
    "for (c,e) in dzip:\n",
    "\tprint(c)\n",
    "\tprint(e)\n",
    "\n",
    "my_dict = {'k1':1,'k2':2}\n",
    "out = 1 in my_dict.items()\n",
    "print(out)\n",
    "out = 1 in my_dict.keys()\n",
    "print(out)\n",
    "out = 1 in my_dict.values()\n",
    "print(out)\n",
    "\n",
    "my_list=[10,20,30]\n",
    "print(min(my_list))\n",
    "print(max(my_list))\n",
    "\n",
    "from random import shuffle\n",
    "mylist = [1,2,3,4,5,6,7,8,9]\n",
    "shuffle(mylist)\n",
    "print(mylist)\n",
    "shuffle(mylist)\n",
    "print(mylist)\n",
    "\n",
    "from random import randint\n",
    "mynum = randint(0,10)\n",
    "print(mynum)\n",
    "mynum = randint(0,10)\n",
    "print(mynum)\n",
    "\n",
    "result = input('Enter your name:')\n",
    "print(result)\n",
    "\n",
    "mystr='10'\n",
    "myfloat = float(mystr)\n",
    "myint = int(mystr)\n",
    "print(mystr)\n",
    "print(myfloat)\n",
    "print(myint)"
   ]
  },
  {
   "cell_type": "code",
   "execution_count": null,
   "id": "2ac41a94-27b2-46d0-86aa-8c7d1f4b0de8",
   "metadata": {},
   "outputs": [],
   "source": []
  }
 ],
 "metadata": {
  "kernelspec": {
   "display_name": "Python 3 (ipykernel)",
   "language": "python",
   "name": "python3"
  },
  "language_info": {
   "codemirror_mode": {
    "name": "ipython",
    "version": 3
   },
   "file_extension": ".py",
   "mimetype": "text/x-python",
   "name": "python",
   "nbconvert_exporter": "python",
   "pygments_lexer": "ipython3",
   "version": "3.12.3"
  }
 },
 "nbformat": 4,
 "nbformat_minor": 5
}
