{
 "cells": [
  {
   "cell_type": "markdown",
   "id": "c676734b-d367-4023-a2e3-f8b827145007",
   "metadata": {},
   "source": [
    "##  Printing the Output"
   ]
  },
  {
   "cell_type": "code",
   "execution_count": 10,
   "id": "9fa58c82-3194-4d29-8d2d-6b4a53619d4b",
   "metadata": {},
   "outputs": [
    {
     "name": "stdout",
     "output_type": "stream",
     "text": [
      "Hello World\n",
      "Student name is shirish and his age is 41\n",
      "Student name is shirish and his age is 41\n"
     ]
    }
   ],
   "source": [
    "print(\"Hello World\")\n",
    "name= \"shirish\"\n",
    "age = 41\n",
    "print('Student name is {n} and his age is {a}'.format(n=name,a=age))\n",
    "print(f'Student name is {name} and his age is {age}')"
   ]
  },
  {
   "cell_type": "markdown",
   "id": "65b82350-3f78-49f1-a06a-6c1f87c5457d",
   "metadata": {},
   "source": [
    "## Datatype - Number & String"
   ]
  },
  {
   "cell_type": "code",
   "execution_count": 5,
   "id": "5ce708ff-ae7e-4c08-89f6-3c92e9179582",
   "metadata": {},
   "outputs": [
    {
     "name": "stdout",
     "output_type": "stream",
     "text": [
      "2\n",
      "<class 'int'>\n",
      "2.0\n",
      "<class 'float'>\n",
      "Shirish\n",
      "<class 'str'>\n",
      "Shirish Umredkar\n",
      "<class 'str'>\n",
      "Shirish's Name\n",
      "<class 'str'>\n"
     ]
    }
   ],
   "source": [
    "a=2\n",
    "print(a)\n",
    "print(type(a))\n",
    "b=2.0\n",
    "print(b)\n",
    "print(type(b))\n",
    "c='Shirish'\n",
    "print(c)\n",
    "print(type(c))\n",
    "d=\"Shirish Umredkar\"\n",
    "print(d)\n",
    "print(type(d))\n",
    "e=\"Shirish's Name\"\n",
    "print(e)\n",
    "print(type(e))\n"
   ]
  },
  {
   "cell_type": "markdown",
   "id": "60f842c5-be54-4a0c-931c-2eb0e87a83c6",
   "metadata": {},
   "source": [
    "## String - Slicing & Dicing "
   ]
  },
  {
   "cell_type": "code",
   "execution_count": 7,
   "id": "70493738-95b8-48c2-9f26-8b3cb6206a65",
   "metadata": {},
   "outputs": [
    {
     "name": "stdout",
     "output_type": "stream",
     "text": [
      "Indexing\n",
      "Shirish Umredkar\n",
      "16\n",
      "S\n",
      "r\n",
      "Slicing\n",
      "Shirish\n",
      "Umredkar\n",
      "Umre\n",
      "SiihUrda\n",
      "rakdermU hsirihS\n"
     ]
    }
   ],
   "source": [
    "my_name=\"Shirish Umredkar\"\n",
    "print(\"Indexing\")\n",
    "print(my_name)\n",
    "print(len(my_name))\n",
    "print(my_name[0])\n",
    "print(my_name[-1])\n",
    "print(\"Slicing\")\n",
    "print(my_name[:7:])\n",
    "print(my_name[8::])\n",
    "print(my_name[8:12:])\n",
    "print(my_name[::2])\n",
    "print(my_name[::-1])"
   ]
  },
  {
   "cell_type": "markdown",
   "id": "e2d438f9-eedf-437d-a58f-8cf59af1f1df",
   "metadata": {},
   "source": [
    "## String - Method"
   ]
  },
  {
   "cell_type": "code",
   "execution_count": 8,
   "id": "75c6e890-5c4e-4ec0-a785-c208e98d50ce",
   "metadata": {},
   "outputs": [
    {
     "name": "stdout",
     "output_type": "stream",
     "text": [
      "3\n",
      "12\n",
      "SHIRISH UMREDKAR\n",
      "Shirish Umredkar\n",
      "shirish umredkar\n",
      "['Shirish', 'Umredkar,', '36']\n",
      "['Shirish Umredkar', ' 36']\n"
     ]
    }
   ],
   "source": [
    "a = 1\n",
    "b = 2\n",
    "c = a + b\n",
    "print(c)\n",
    "a = '1'\n",
    "b = '2'\n",
    "c = a + b\n",
    "print(c)\n",
    "a = 'Shirish Umredkar'\n",
    "print(a.upper())\n",
    "print(a)\n",
    "print(a.lower())\n",
    "b = 'Shirish Umredkar, 36'\n",
    "print(b.split())\n",
    "print(b.split(','))"
   ]
  },
  {
   "cell_type": "markdown",
   "id": "b7de4c52-fd4b-40fc-ac43-34845ae3dca4",
   "metadata": {},
   "source": [
    "## Datatype - List"
   ]
  },
  {
   "cell_type": "code",
   "execution_count": 13,
   "id": "70b33ec3-a556-4b4d-a268-301025395790",
   "metadata": {},
   "outputs": [
    {
     "name": "stdout",
     "output_type": "stream",
     "text": [
      "1\n",
      "[2]\n",
      "[3, 4]\n",
      "[1, 'Shirish', 'Umredkar', 3.2]\n",
      "[1, 2, 3, 4, 1, 'Shirish', 'Umredkar', 3.2]\n",
      "[1, 'SHIRISH', 'Umredkar', 3.2]\n",
      "[1, 'SHIRISH', 'Umredkar', 3.2, '4.5']\n",
      "SHIRISH\n",
      "[1, 'Umredkar', 3.2, '4.5']\n",
      "[1, 4, 5, 6, 7, 8]\n",
      "None\n",
      "[8, 7, 6, 5, 4, 1]\n"
     ]
    }
   ],
   "source": [
    "list1=[1,2,3,4]\n",
    "print (list1[0])\n",
    "print(list1[1:2])\n",
    "print(list1[2:])\n",
    "list2=[1,'Shirish',\"Umredkar\",3.2]\n",
    "print(list2)\n",
    "list3 = list1 + list2\n",
    "print(list3)\n",
    "list2[1]='SHIRISH'\n",
    "print(list2)\n",
    "list2.append('4.5')\n",
    "print(list2)\n",
    "list2_del=list2.pop(1)\n",
    "print(list2_del)\n",
    "print(list2)\n",
    "list4=[1,4,5,6,7,8]\n",
    "list5=list4.sort()\n",
    "print(list4)\n",
    "print(list5)\n",
    "list4.reverse()\n",
    "print(list4)"
   ]
  },
  {
   "cell_type": "markdown",
   "id": "9faa50d8-baef-4134-9a57-259fc37e2427",
   "metadata": {},
   "source": [
    "## Datatype - Dictionary"
   ]
  },
  {
   "cell_type": "code",
   "execution_count": 14,
   "id": "3cd5523d-b932-47ca-9d4e-d379fbb50f3f",
   "metadata": {},
   "outputs": [
    {
     "name": "stdout",
     "output_type": "stream",
     "text": [
      "{'key1': 'value1', 'key2': 'value2'}\n",
      "value1\n",
      "dict_keys(['key1', 'key2'])\n",
      "dict_values(['value1', 'value2'])\n",
      "dict_items([('key1', 'value1'), ('key2', 'value2')])\n",
      "{'key1': 'value1', 'key2': 'value2', 'key3': 'value3'}\n",
      "{'fruit': 'apple', 'price': 100, 'store': ['wadgaonsheri', 'viman nagar', 'kharadi']}\n",
      "apple\n",
      "100\n",
      "WADGAONSHERI\n"
     ]
    }
   ],
   "source": [
    "a={'key1':'value1','key2':'value2'}\n",
    "print(a)\n",
    "print(a['key1'])\n",
    "print(a.keys())\n",
    "print(a.values())\n",
    "print(a.items())\n",
    "a['key3']='value3'\n",
    "print(a)\n",
    "b={'fruit':'apple','price' : 100,'store' : ['wadgaonsheri','viman nagar','kharadi']}\n",
    "print(b)\n",
    "print(b['fruit'])\n",
    "print(b['price'])\n",
    "print(b['store'][0].upper())"
   ]
  },
  {
   "cell_type": "markdown",
   "id": "6cfbbe7e-7fd8-4d1f-b51d-d48b9fd3e8a3",
   "metadata": {},
   "source": [
    "## Datatype - Tuple"
   ]
  },
  {
   "cell_type": "code",
   "execution_count": 17,
   "id": "a0033bae-4e89-4c29-8ad9-8579fc6cc8d1",
   "metadata": {},
   "outputs": [
    {
     "name": "stdout",
     "output_type": "stream",
     "text": [
      "(1, 1, 3)\n",
      "[1, 2, 3]\n",
      "1\n",
      "1\n",
      "2\n",
      "0\n"
     ]
    }
   ],
   "source": [
    "a=(1,1,3)\n",
    "b=[1,2,3]\n",
    "print(a)\n",
    "print(b)\n",
    "print(a[0])\n",
    "print(b[0])\n",
    "b[0]=4\n",
    "print(a.count(1))\n",
    "print(a.index(1))\n",
    "#a[0]=4 "
   ]
  },
  {
   "cell_type": "markdown",
   "id": "fb8c4dc0-17f6-4514-ac3c-dddf6b2fb139",
   "metadata": {},
   "source": [
    "## Datatype - Set"
   ]
  },
  {
   "cell_type": "code",
   "execution_count": 18,
   "id": "e74cdad7-4c5f-44c5-8f74-46d0c98a3ece",
   "metadata": {},
   "outputs": [
    {
     "name": "stdout",
     "output_type": "stream",
     "text": [
      "{1, 2, 3}\n",
      "{1, 2, 3, 4}\n",
      "{1, 2, 3, 4}\n"
     ]
    }
   ],
   "source": [
    "a={1,2,3}\n",
    "print(a)\n",
    "a.add(4)\n",
    "print(a)\n",
    "a.add(4)\n",
    "print(a)"
   ]
  },
  {
   "cell_type": "markdown",
   "id": "b94c1298-9ccf-45f0-97d8-3a73e9e22d60",
   "metadata": {},
   "source": [
    "## Datatype - Boolean"
   ]
  },
  {
   "cell_type": "code",
   "execution_count": 19,
   "id": "b48ef6b9-dc01-42f9-943e-aa4ae0c78390",
   "metadata": {},
   "outputs": [
    {
     "name": "stdout",
     "output_type": "stream",
     "text": [
      "False\n",
      "True\n",
      "None\n",
      "<class 'NoneType'>\n"
     ]
    }
   ],
   "source": [
    "c=1>2\n",
    "print(c)\n",
    "c=1<2\n",
    "print(c)\n",
    "d=None\n",
    "print(d)\n",
    "print(type(d))"
   ]
  },
  {
   "cell_type": "markdown",
   "id": "93182e1e-8b55-4671-a25e-6bc04bf58062",
   "metadata": {},
   "source": [
    "## Datatype - Generic"
   ]
  },
  {
   "cell_type": "code",
   "execution_count": 24,
   "id": "4a9d5670-8c1d-4d90-863c-eb1ebc004e53",
   "metadata": {},
   "outputs": [
    {
     "name": "stdout",
     "output_type": "stream",
     "text": [
      "2\n",
      "{1, 2, 3, 4}\n"
     ]
    }
   ],
   "source": [
    "lista = [1,1,2,3,4]\n",
    "tuplea= tuple(lista)\n",
    "print(tuplea.count(1))\n",
    "seta=set(lista)\n",
    "print(seta)\n"
   ]
  },
  {
   "cell_type": "markdown",
   "id": "d08e1aaa-c086-41ed-bb54-d74ea92b88a1",
   "metadata": {},
   "source": [
    "## File Operation"
   ]
  },
  {
   "cell_type": "code",
   "execution_count": 15,
   "id": "0fb8803b-5e8b-4e8d-83a2-749e1273c40f",
   "metadata": {},
   "outputs": [
    {
     "name": "stdout",
     "output_type": "stream",
     "text": [
      "This is Only line\n",
      "This is Only line\n",
      "This is Only line\n",
      "This is appended line\n",
      "\n"
     ]
    }
   ],
   "source": [
    "with open('D:\\\\GCPLearning\\\\codebase\\\\pythonlocal\\\\inputfiles\\\\file_io.txt',mode='r') as fileiocheck:\n",
    "    content=fileiocheck.read()\n",
    "    print(content)\n",
    "    fileiocheck.seek(0)\n",
    "    content=fileiocheck.read()\n",
    "    print(content)\n",
    "with open('D:\\\\GCPLearning\\\\codebase\\\\pythonlocal\\\\inputfiles\\\\file_io.txt',mode='a') as fileappcheck:\n",
    "    fileappcheck.write('\\nThis is appended line')\n",
    "with open('D:\\\\GCPLearning\\\\codebase\\\\pythonlocal\\\\inputfiles\\\\file_io.txt',mode='r') as fileappcheck:\n",
    "    fileappcheck.seek(0)\n",
    "    content=fileappcheck.read()\n",
    "    print(content)\n",
    "with open('D:\\\\GCPLearning\\\\codebase\\\\pythonlocal\\\\inputfiles\\\\file_io.txt',mode='w+') as fileappcheck:\n",
    "    fileappcheck.write('This is Only line')\n",
    "    content=fileappcheck.read()\n",
    "    print(content)"
   ]
  },
  {
   "cell_type": "markdown",
   "id": "0bb4f780-dd11-4307-8d45-ec7fa3d0dd39",
   "metadata": {},
   "source": [
    "## Comparison & Logical Operator"
   ]
  },
  {
   "cell_type": "code",
   "execution_count": 17,
   "id": "19640104-d9d5-45ed-98d2-9732cd108efb",
   "metadata": {},
   "outputs": [
    {
     "name": "stdout",
     "output_type": "stream",
     "text": [
      "1\n",
      "2\n",
      "True\n",
      "False\n",
      "True\n",
      "False\n",
      "True\n",
      "True\n",
      "True\n",
      "False\n"
     ]
    }
   ],
   "source": [
    "a=1\n",
    "b=2\n",
    "c=a<b\n",
    "d=b<a\n",
    "e=a<=b\n",
    "f=b<=a\n",
    "g=a==a\n",
    "h=(a==a and b==b)\n",
    "i=(a==a or b==b)\n",
    "j=not(a==a or b==b)\n",
    "print(a)\n",
    "print(b)\n",
    "print(c)\n",
    "print(d)\n",
    "print(e)\n",
    "print(f)\n",
    "print(g)\n",
    "print(h)\n",
    "print(i)\n",
    "print(j)\n"
   ]
  },
  {
   "cell_type": "markdown",
   "id": "092a9c76-1311-4463-b69b-f7ba54f2587b",
   "metadata": {},
   "source": [
    "## Conditional Operator"
   ]
  },
  {
   "cell_type": "code",
   "execution_count": 19,
   "id": "87f4737d-427a-4f3b-8beb-3e9a2df7536d",
   "metadata": {},
   "outputs": [
    {
     "name": "stdout",
     "output_type": "stream",
     "text": [
      "b is greater then a\n"
     ]
    }
   ],
   "source": [
    "a=1\n",
    "b=2\n",
    "c=1\n",
    "if (a < b and b > a):\n",
    "\tprint('b is greater then a')\n",
    "elif ( c == a):\n",
    "\tprint('c is equal to a')\n",
    "else:\n",
    "\tprint('all is fine')"
   ]
  },
  {
   "cell_type": "markdown",
   "id": "7fc1af46-1472-4a0b-a706-571667cad705",
   "metadata": {},
   "source": [
    "## Control Flow - For Loop & Tuple-Dict Unpacking"
   ]
  },
  {
   "cell_type": "code",
   "execution_count": 21,
   "id": "cff41833-a40e-4148-9cf4-4858d49ede6f",
   "metadata": {},
   "outputs": [
    {
     "name": "stdout",
     "output_type": "stream",
     "text": [
      "S\n",
      "h\n",
      "i\n",
      "r\n",
      "i\n",
      "s\n",
      "h\n",
      " \n",
      "U\n",
      "m\n",
      "r\n",
      "e\n",
      "d\n",
      "k\n",
      "a\n",
      "r\n",
      "1\n",
      "2\n",
      "3\n",
      "1 is an odd number\n",
      "2 is an even number\n",
      "3 is an odd number\n",
      "4 is an even number\n",
      "5 is an odd number\n",
      "6 is an even number\n",
      "7 is an odd number\n",
      "8 is an even number\n",
      "9 is an odd number\n",
      "10 is an even number\n",
      "my name is Shirish\n",
      "my name is Shirish\n",
      "my name is Shirish\n",
      "my name is Shirish\n",
      "my name is Shirish\n",
      "my name is Shirish\n",
      "my name is Shirish\n",
      "1\n",
      "2\n",
      "3\n",
      "4\n",
      "5\n",
      "6\n",
      "7\n",
      "8\n",
      "9\n",
      "k1\n",
      "k2\n",
      "('k1', 11)\n",
      "('k2', 12)\n",
      "11\n",
      "12\n",
      "k1\n",
      "11\n",
      "k2\n",
      "12\n"
     ]
    }
   ],
   "source": [
    "my_string=\"Shirish Umredkar\"\n",
    "for str in my_string:\n",
    "\tprint(str)\n",
    "\n",
    "my_list=[1,2,3]\n",
    "for lst in my_list:\n",
    "\tprint(lst)\n",
    "\n",
    "my_even_odd=[1,2,3,4,5,6,7,8,9,10]\n",
    "for chk in my_even_odd:\n",
    "\tif chk % 2 ==0:\n",
    "\t\tprint(f'{chk} is an even number')\n",
    "\telse:\n",
    "\t\tprint(f'{chk} is an odd number')\t\n",
    "\n",
    "my_name=\"Shirish\"\n",
    "for _ in my_name:\n",
    "\tprint(f'my name is {my_name}')\t\n",
    "\n",
    "my_tup = (1,2,3)\n",
    "for tupl in my_tup:\n",
    "\tprint(tupl)\n",
    "\n",
    "my_list_tup = [(4,5,6),(7,8,9)]\t\n",
    "len(my_list_tup)\n",
    "for (a,b,c) in my_list_tup:\n",
    "\tprint(a)\n",
    "\tprint(b)\n",
    "\tprint(c)\n",
    "\n",
    "my_list_dict = {'k1':11,'k2':12}\n",
    "for list_dict in my_list_dict:\n",
    "\tprint(list_dict)\n",
    "\n",
    "my_list_dict = {'k1':11,'k2':12}\n",
    "for list_dict in my_list_dict.items():\n",
    "\tprint(list_dict)\n",
    "\t\t\n",
    "my_list_dict = {'k1':11,'k2':12}\n",
    "for list_dict in my_list_dict.values():\n",
    "\tprint(list_dict)\n",
    "\n",
    "my_list_dict = {'k1':11,'k2':12}\n",
    "for (key,value) in my_list_dict.items():\n",
    "\tprint(key)\n",
    "\tprint(value)\n"
   ]
  },
  {
   "cell_type": "markdown",
   "id": "adf4e75a-5786-46ba-8645-045ffcf6700a",
   "metadata": {},
   "source": [
    "## Control Flow - While loop [ Break Pass Continue ]"
   ]
  },
  {
   "cell_type": "code",
   "execution_count": 24,
   "id": "b05465a0-6eef-4fe0-bea8-468af2b9848f",
   "metadata": {},
   "outputs": [
    {
     "name": "stdout",
     "output_type": "stream",
     "text": [
      "Counter value is 10\n",
      "Counter value is 9\n",
      "Counter value is 8\n",
      "Counter value is 7\n",
      "Counter value is 6\n",
      "Counter value is 5\n",
      "Counter value is 4\n",
      "Counter value is 3\n",
      "Counter value is 2\n",
      "Counter value is 1\n",
      "inside break loop\n",
      "Counter break value is 10\n",
      "Counter break value is 9\n",
      "Counter break value is 8\n",
      "Counter break value is 7\n",
      "Counter break value is 6\n",
      "Counter break value is 5\n",
      "inside break\n",
      "outside break loop\n",
      "inside continue loop\n",
      "Counter continue value is 10\n",
      "Counter continue value is 9\n",
      "Counter continue value is 8\n",
      "Counter continue value is 7\n",
      "Counter continue value is 6\n",
      "inside continue\n",
      "Counter continue value is 4\n",
      "Counter continue value is 3\n",
      "Counter continue value is 2\n",
      "Counter continue value is 1\n",
      "outside continue loop\n"
     ]
    }
   ],
   "source": [
    "counter=10\n",
    "while counter>=1:\n",
    "\tprint(f'Counter value is {counter}')\n",
    "\tcounter = counter - 1\n",
    "\n",
    "print('inside break loop')\n",
    "counter=10\n",
    "while counter>=1:\n",
    "\tprint(f'Counter break value is {counter}')\n",
    "\tif counter == 5:\n",
    "\t\tprint('inside break')\n",
    "\t\tbreak\n",
    "\tcounter = counter - 1\t\n",
    "print('outside break loop')\n",
    "\n",
    "print('inside continue loop')\n",
    "counter=10\n",
    "while counter>=1:\n",
    "\tif counter == 5:\n",
    "\t\tprint('inside continue')\n",
    "\t\tcounter = counter - 1\n",
    "\t\tcontinue\n",
    "\telse:\t\n",
    "\t\tprint(f'Counter continue value is {counter}')\n",
    "\tcounter = counter - 1\n",
    "print('outside continue loop')\n",
    "\n",
    "counter=10\n",
    "while counter<=1:\t\n",
    "\tpass\t\t\t"
   ]
  },
  {
   "cell_type": "markdown",
   "id": "01039137-649e-4991-97a3-63c029bdad09",
   "metadata": {},
   "source": [
    "## Other Useful Operator"
   ]
  },
  {
   "cell_type": "code",
   "execution_count": 25,
   "id": "865054e1-8c73-405b-8b57-f48c18211667",
   "metadata": {},
   "outputs": [
    {
     "name": "stdout",
     "output_type": "stream",
     "text": [
      "1\n",
      "3\n",
      "5\n",
      "7\n",
      "9\n",
      "0\n",
      "s\n",
      "1\n",
      "h\n",
      "2\n",
      "i\n",
      "3\n",
      "r\n",
      "4\n",
      "i\n",
      "5\n",
      "s\n",
      "6\n",
      "h\n",
      "True\n",
      "1\n",
      "4\n",
      "2\n",
      "5\n",
      "3\n",
      "6\n",
      "False\n",
      "False\n",
      "True\n",
      "10\n",
      "30\n",
      "[1, 7, 8, 6, 5, 9, 2, 4, 3]\n",
      "[4, 6, 7, 5, 8, 3, 1, 9, 2]\n",
      "7\n",
      "9\n"
     ]
    },
    {
     "name": "stdin",
     "output_type": "stream",
     "text": [
      "Enter your name: SHirish\n"
     ]
    },
    {
     "name": "stdout",
     "output_type": "stream",
     "text": [
      "SHirish\n",
      "10\n",
      "10.0\n",
      "10\n"
     ]
    }
   ],
   "source": [
    "for lst in range(1,11,2):\n",
    "\tprint(lst)\n",
    "\n",
    "my_name='shirish'\n",
    "for (index,val) in enumerate(my_name):\n",
    "\tprint(index)\t\n",
    "\tprint(val)\n",
    "\n",
    "str=\"shirish\"\n",
    "out='s' in str\n",
    "print(out)\n",
    "\n",
    "a=[1,2,3]\n",
    "b=[4,5,6,7,8]\n",
    "dzip = zip(a,b)\n",
    "for (c,e) in dzip:\n",
    "\tprint(c)\n",
    "\tprint(e)\n",
    "\n",
    "my_dict = {'k1':1,'k2':2}\n",
    "out = 1 in my_dict.items()\n",
    "print(out)\n",
    "out = 1 in my_dict.keys()\n",
    "print(out)\n",
    "out = 1 in my_dict.values()\n",
    "print(out)\n",
    "\n",
    "my_list=[10,20,30]\n",
    "print(min(my_list))\n",
    "print(max(my_list))\n",
    "\n",
    "from random import shuffle\n",
    "mylist = [1,2,3,4,5,6,7,8,9]\n",
    "shuffle(mylist)\n",
    "print(mylist)\n",
    "shuffle(mylist)\n",
    "print(mylist)\n",
    "\n",
    "from random import randint\n",
    "mynum = randint(0,10)\n",
    "print(mynum)\n",
    "mynum = randint(0,10)\n",
    "print(mynum)\n",
    "\n",
    "result = input('Enter your name:')\n",
    "print(result)\n",
    "\n",
    "mystr='10'\n",
    "myfloat = float(mystr)\n",
    "myint = int(mystr)\n",
    "print(mystr)\n",
    "print(myfloat)\n",
    "print(myint)"
   ]
  },
  {
   "cell_type": "markdown",
   "id": "ef808106-b818-4b68-9b38-09e3b4113216",
   "metadata": {},
   "source": [
    "## Object Oriented Programming"
   ]
  },
  {
   "cell_type": "code",
   "execution_count": 2,
   "id": "4310ce91-a6c1-4357-8c3b-346c6f5473d0",
   "metadata": {},
   "outputs": [
    {
     "name": "stdout",
     "output_type": "stream",
     "text": [
      "31.400000000000002\n"
     ]
    }
   ],
   "source": [
    "class OopAttrMethod():\n",
    "\tpi = 3.14\n",
    "\n",
    "\tdef __init__(self,radius):\n",
    "\t\tself.radius=radius\n",
    "\n",
    "\tdef get_circum(self):\n",
    "\t\tmycir = 2*OopAttrMethod.pi*self.radius\n",
    "\t\treturn mycir\n",
    "\n",
    "myOopAttrMethod = OopAttrMethod(5) \n",
    "mycircum = myOopAttrMethod.get_circum()\n",
    "print(mycircum)\n"
   ]
  },
  {
   "cell_type": "markdown",
   "id": "39fa7cad-7bd9-4e64-8be5-dae11ef19bb0",
   "metadata": {},
   "source": [
    "## Inheritance"
   ]
  },
  {
   "cell_type": "code",
   "execution_count": 3,
   "id": "eb58ddd8-e4be-420d-8637-75004a872f0a",
   "metadata": {},
   "outputs": [
    {
     "name": "stdout",
     "output_type": "stream",
     "text": [
      "Account Balance is 0 and discount offered is 10\n",
      "Account Balance post deposit 100 is 100\n",
      "Account Balance post withdraw 90 is 10\n",
      "Account Balance post discount is 9.0\n"
     ]
    }
   ],
   "source": [
    "class BankingTran():\n",
    "\n",
    "\tdef __init__(self,amt):\n",
    "\t\tself.balance = 0\n",
    "\t\tself.amt = amt \n",
    "\n",
    "\tdef deposit(self,depamt):\n",
    "\t\tself.balance = self.balance + depamt\n",
    "\t\treturn self.balance\n",
    "\n",
    "\tdef withdraw(self,withamt):\n",
    "\t\tself.balance = self.balance - withamt\n",
    "\t\treturn self.balance\n",
    "    \n",
    "class BankingInher(BankingTran):\n",
    "\n",
    "\tdef __init__(self,amt,disc):\n",
    "\t\tself.amt = amt \n",
    "\t\tself.disc = disc \n",
    "\t\tBankingTran.__init__(self,self.amt)\n",
    "\n",
    "\tdef discamt(self):\n",
    "\t\tself.balance = \tself.balance - (self.disc/100)*self.balance\n",
    "\t\treturn self.balance\n",
    "\n",
    "mybanktran = BankingInher(100,10)\n",
    "print(f'Account Balance is {mybanktran.balance} and discount offered is {mybanktran.disc}')\n",
    "myamtpostdep = mybanktran.deposit(100)\n",
    "print(f'Account Balance post deposit 100 is {myamtpostdep}')\n",
    "myamtpostwtdrw = mybanktran.withdraw(90)\n",
    "print(f'Account Balance post withdraw 90 is {myamtpostwtdrw}')\n",
    "myamtpostdisc = mybanktran.discamt()\n",
    "print(f'Account Balance post discount is {myamtpostdisc}')\n",
    "\n"
   ]
  },
  {
   "cell_type": "markdown",
   "id": "5f8b12fe-74d1-46d6-8f46-daf41b8c9afb",
   "metadata": {},
   "source": [
    "## Magic Method"
   ]
  },
  {
   "cell_type": "code",
   "execution_count": 4,
   "id": "60b72dce-6e46-4bfb-9f8d-f4a313f673ac",
   "metadata": {},
   "outputs": [
    {
     "name": "stdout",
     "output_type": "stream",
     "text": [
      "[1, 2, 3, 4]\n",
      "4\n"
     ]
    }
   ],
   "source": [
    "class MagicMethod():\n",
    "\n",
    "\tdef __init__(self,mylist):\n",
    "\t\tself.mylist=mylist\n",
    "\n",
    "\tdef __str__(self):\n",
    "\t\treturn str(self.mylist)\n",
    "\n",
    "\tdef __len__(self):\n",
    "\t    return len(self.mylist)\t\n",
    "\n",
    "mylist = [1,2,3,4]\n",
    "MyMagic = MagicMethod(mylist)\n",
    "print(MyMagic)\n",
    "print(len(MyMagic))\n"
   ]
  },
  {
   "cell_type": "markdown",
   "id": "0d4f2ed7-e392-4a39-88f0-38a964f1c0f2",
   "metadata": {},
   "source": [
    "## PIP Module & Submodule"
   ]
  },
  {
   "cell_type": "code",
   "execution_count": 6,
   "id": "7b5f0b74-325e-42cc-8b17-49a5b417c87a",
   "metadata": {},
   "outputs": [],
   "source": [
    "#from package_22 import mypackage\n",
    "#from package_22.subpackage_22 import mysubpackage\n",
    "\n",
    "#mypackage.myfunc()\n",
    "#mysubpackage.mysubfunc()"
   ]
  },
  {
   "cell_type": "markdown",
   "id": "ec30844d-8fe0-4bd1-9eee-5ee01303ab8e",
   "metadata": {},
   "source": [
    "## __name__ & __main__"
   ]
  },
  {
   "cell_type": "code",
   "execution_count": 8,
   "id": "0bb11bf0-de9c-4a20-9883-f85d7f3012a5",
   "metadata": {},
   "outputs": [
    {
     "name": "stdout",
     "output_type": "stream",
     "text": [
      "I am called from func_one directly\n",
      "I am in main two\n",
      "I am called from func_one directly\n"
     ]
    }
   ],
   "source": [
    "def func_one():\n",
    "\tif __name__ == \"__main__\":\n",
    "\t\tprint('I am called from func_one directly')\n",
    "\telse:\n",
    "\t\tprint('I am called from outside')\t\n",
    "\n",
    "func_one()\n",
    "\n",
    "print('I am in main two')\n",
    "func_one()"
   ]
  },
  {
   "cell_type": "markdown",
   "id": "775cb662-13a4-467f-b9ca-a18719174aa4",
   "metadata": {},
   "source": [
    "## Decorator"
   ]
  },
  {
   "cell_type": "code",
   "execution_count": 1,
   "id": "5f62001c-e970-44db-9bd2-523233918cda",
   "metadata": {},
   "outputs": [
    {
     "name": "stdout",
     "output_type": "stream",
     "text": [
      "This is the Function need not to be Decorated\n",
      "This is line before function call\n",
      "This is the Function to be Decorated\n",
      "This is te line after function call\n"
     ]
    }
   ],
   "source": [
    "def new_decorator(call_func):\n",
    "\tdef wrap_fun():\n",
    "\t\tprint(\"This is line before function call\")\n",
    "\t\tcall_func()\n",
    "\t\tprint(\"This is te line after function call\")\t\n",
    "\treturn wrap_fun\n",
    "\n",
    "def func_need_not_decorator():\n",
    "\tprint(\"This is the Function need not to be Decorated\")\n",
    "\n",
    "@new_decorator\n",
    "def func_need_decorator():\n",
    "\tprint(\"This is the Function to be Decorated\")\n",
    "\n",
    "func_need_not_decorator()\t\t\n",
    "func_need_decorator()"
   ]
  },
  {
   "cell_type": "markdown",
   "id": "810aeedf-c9ef-4c01-b72c-6c89a5c1e9db",
   "metadata": {},
   "source": [
    "## Generator"
   ]
  },
  {
   "cell_type": "code",
   "execution_count": 2,
   "id": "7482044f-7ce1-47ef-8929-3f123180ee60",
   "metadata": {},
   "outputs": [
    {
     "name": "stdout",
     "output_type": "stream",
     "text": [
      "0\n",
      "1\n"
     ]
    }
   ],
   "source": [
    "def simple_yield():\n",
    "\tfor i in range(10):\n",
    "\t\tyield i\n",
    "out=simple_yield()\n",
    "print(next(out))\t\n",
    "print(next(out))"
   ]
  },
  {
   "cell_type": "markdown",
   "id": "c81d92c8-2efe-42f1-b2c0-fdcb8607de06",
   "metadata": {},
   "source": [
    "## Collection - Counter"
   ]
  },
  {
   "cell_type": "code",
   "execution_count": 3,
   "id": "8dd1ff35-64f5-4418-988c-1c3b1e8df7e8",
   "metadata": {},
   "outputs": [
    {
     "name": "stdout",
     "output_type": "stream",
     "text": [
      "Counter({1: 4, 2: 4})\n",
      "Counter({'s': 2, 'h': 2, 'i': 2, 'r': 1})\n",
      "Counter({' ': 3, 'i': 3, 's': 2, 'h': 2, 'M': 1, 'y': 1, 'N': 1, 'a': 1, 'm': 1, 'e': 1, 'S': 1, 'r': 1})\n",
      "Counter({'My': 1, 'Name': 1, 'is': 1, 'Shirish': 1})\n",
      "7\n",
      "[('Name', 2)]\n"
     ]
    }
   ],
   "source": [
    "from collections import Counter\n",
    "mylist=[1,2,1,2,1,2,1,2]\n",
    "print(Counter(mylist))\n",
    "mystr='shirish'\n",
    "print(Counter(mystr))\n",
    "mysnt=\"My Name is Shirish\"\n",
    "print(Counter(mysnt))\n",
    "print(Counter(mysnt.split()))\n",
    "mysntrep=\"My Name Name is is Shirish Shirish\"\n",
    "c = Counter(mysntrep.split())\n",
    "print(sum(c.values()))\n",
    "print(c.most_common(1))\n",
    "\n"
   ]
  },
  {
   "cell_type": "markdown",
   "id": "d3a67976-e9ad-4b8d-aa5b-1229e59a05c8",
   "metadata": {},
   "source": [
    "## Collection - defaultdict"
   ]
  },
  {
   "cell_type": "code",
   "execution_count": 29,
   "id": "1c56b840-e1a8-4ce1-9405-988b280b1953",
   "metadata": {},
   "outputs": [
    {
     "name": "stdout",
     "output_type": "stream",
     "text": [
      "one-<object object at 0x00000274DBA872C0>-\n",
      "three-<object object at 0x00000274DBA872F0>-\n"
     ]
    }
   ],
   "source": [
    "from collections import defaultdict\n",
    "mylist={}\n",
    "#mylist['one']\n",
    "mylist=defaultdict(object)\n",
    "mylist['one']\n",
    "mylist['three']\n",
    "for itm,val in mylist.items():\n",
    "    print(str(itm)+'-'+str(val)+'-')\n",
    "    "
   ]
  },
  {
   "cell_type": "markdown",
   "id": "c177dd7e-13fd-4e0e-89ba-6800d4b95ef8",
   "metadata": {},
   "source": [
    "## Collection - OrderedDict"
   ]
  },
  {
   "cell_type": "code",
   "execution_count": null,
   "id": "7cd6ce94-c3ea-4e04-b485-e70c5d5c8f33",
   "metadata": {},
   "outputs": [],
   "source": [
    "from collections import OrderedDict\n",
    "mydict={}\n",
    "mydict['a']=1\n",
    "mydict['b']=2\n",
    "mydict['c']=3\n",
    "mydict['d']=4\n",
    "mydict['e']=5\n",
    "mydict['f']=6\n",
    "mydict['g']=7\n",
    "for k,v in mydict.items():\n",
    "\tprint(k,v)\n",
    "\n",
    "mydict=OrderedDict()\n",
    "mydict['a']=1\n",
    "mydict['b']=2\n",
    "mydict['c']=3\n",
    "mydict['d']=4\n",
    "mydict['e']=5\n",
    "mydict['f']=6\n",
    "mydict['g']=7\n",
    "for k,v in mydict.items():\n",
    "\tprint(k,v)\t"
   ]
  },
  {
   "cell_type": "code",
   "execution_count": null,
   "id": "6b8de0eb-3ea9-4c17-aae5-5d4f9b528d8d",
   "metadata": {},
   "outputs": [],
   "source": [
    "## Collection - namedtuple"
   ]
  },
  {
   "cell_type": "code",
   "execution_count": 30,
   "id": "9f501321-9054-4dfb-9d88-4f1454ac1b9a",
   "metadata": {},
   "outputs": [
    {
     "name": "stdout",
     "output_type": "stream",
     "text": [
      "sam\n",
      "3\n",
      "pommy\n"
     ]
    }
   ],
   "source": [
    "from collections import namedtuple\n",
    "Dog=namedtuple('Dog','name age breed')\n",
    "s=Dog(name='sam',age='3',breed='pommy')\n",
    "print(s.name)\n",
    "print(s.age)\n",
    "print(s.breed)"
   ]
  },
  {
   "cell_type": "markdown",
   "id": "1db8c9e5-c343-42e2-ac65-81629adba33b",
   "metadata": {},
   "source": [
    "## Collection - datetime"
   ]
  },
  {
   "cell_type": "code",
   "execution_count": 31,
   "id": "33df4c7d-1e16-4d17-ac8a-6686264409ca",
   "metadata": {},
   "outputs": [
    {
     "name": "stdout",
     "output_type": "stream",
     "text": [
      "2024-06-22\n",
      "2024\n",
      "6\n",
      "22\n",
      "2012-06-22\n",
      "4383 days, 0:00:00\n"
     ]
    }
   ],
   "source": [
    "import datetime\n",
    "\n",
    "tddt=datetime.date.today()\n",
    "print(tddt)\n",
    "print(tddt.year)\n",
    "print(tddt.month)\n",
    "print(tddt.day)\n",
    "tdt=datetime.date.today()\n",
    "chgdt=tdt.replace(year=2012)\n",
    "print(chgdt)\n",
    "tmdt=tddt-chgdt\n",
    "print(tmdt)"
   ]
  },
  {
   "cell_type": "markdown",
   "id": "38a58195-1c5d-4fd0-86e9-f638ca323bc8",
   "metadata": {},
   "source": [
    "## Advanced Datatype - Numbers"
   ]
  },
  {
   "cell_type": "code",
   "execution_count": 32,
   "id": "2c66b59f-d314-4e7f-a95f-d29f8511742b",
   "metadata": {},
   "outputs": [
    {
     "name": "stdout",
     "output_type": "stream",
     "text": [
      "Number  -  10\n",
      "Hexadecimal  -  0xa\n",
      "Binary  -  0b1010\n",
      "Power  -  100\n",
      "Power and mod -  0\n",
      "Absolute value -  10\n",
      "Round  -  3\n",
      "Round  -  4\n",
      "Round  -  3.235\n"
     ]
    }
   ],
   "source": [
    "num=10\n",
    "print(\"Number  -  \"+str(num))\n",
    "print(\"Hexadecimal  -  \"+hex(num))\n",
    "print(\"Binary  -  \"+bin(num))\n",
    "print(\"Power  -  \"+str(pow(num,2)))\n",
    "print(\"Power and mod -  \"+str(pow(num,2,2)))\n",
    "print(\"Absolute value -  \"+str(abs(-10)))\n",
    "print(\"Round  -  \"+str(round(3.4)))\n",
    "print(\"Round  -  \"+str(round(3.6)))\n",
    "print(\"Round  -  \"+str(round(3.234566,3)))\n"
   ]
  },
  {
   "cell_type": "markdown",
   "id": "5ca818cd-cef3-4dcc-98e7-8f427fdd2d17",
   "metadata": {},
   "source": [
    "## Advanced Datatype - Strings"
   ]
  },
  {
   "cell_type": "markdown",
   "id": "fb69b902-f83f-41be-9d82-d9a3cae76a52",
   "metadata": {},
   "source": [
    "mystr=\"Hello World\"\n",
    "print(\"Original string :  \"+mystr)\n",
    "print(\"Capitalize string :  \"+mystr.capitalize())\n",
    "print(\"Lowercase string :  \"+mystr.lower())\n",
    "print(\"Uppercase string :  \"+mystr.upper())\n",
    "print(\"Count e Letters :  \"+str(mystr.count('e')))\n",
    "print(\"Find l Letters :  \"+str(mystr.find('l')))\n",
    "\n",
    "\n",
    "print(\"Center string :  \"+mystr.center(50,'-'))\n",
    "mystr1=\"Hello\\tWorld\"\n",
    "print(\"Expand string :  \"+mystr1.expandtabs())\n",
    "\n",
    "mystrchk=\"HelloWorld\"\n",
    "print(\"Is Alpha Numeric :  \"+str(mystrchk.isalnum()))\n",
    "print(\"Is Alphabetic :  \"+str(mystrchk.isalpha()))\n",
    "mystrchk=\"hello\"\n",
    "print(\"Is Lowercase :  \"+str(mystrchk.islower()))\n",
    "mystrchk=\"HELLO\"\n",
    "print(\"Is Uppercase :  \"+str(mystrchk.isupper()))\n",
    "mystrchk=\"Hello\"\n",
    "print(\"Is Title case :  \"+str(mystrchk.istitle()))\n",
    "mystrchk=\"  \"\n",
    "print(\"Is having Space :  \"+str(mystrchk.isspace()))\n",
    "mystrchk=\"Hello\"\n",
    "print(\"Ends with :  \"+str(mystrchk.endswith('o')))\n",
    "mystrchk=\"Hello\"\n",
    "print(\"Starts with :  \"+str(mystrchk.startswith('H')))\n",
    "mystr=\"Hello World\"\n",
    "print(\"split with space :  \"+str(list(mystr.split())[0]) + \" \" + str(list(mystr.split())[1]))\n",
    "print(\"split with l :  \"+str(list(mystr.split('l'))))\n",
    "print(\"split with l using partition :  \"+str(list(mystr.partition('l'))))\n",
    "\n"
   ]
  },
  {
   "cell_type": "markdown",
   "id": "3e8d5280-985b-4f75-9228-9686bd8159ed",
   "metadata": {},
   "source": [
    "## Advanced Datatype - Set"
   ]
  },
  {
   "cell_type": "code",
   "execution_count": 34,
   "id": "261fa3e8-cc67-4846-8869-fae5017aa42d",
   "metadata": {},
   "outputs": [
    {
     "name": "stdout",
     "output_type": "stream",
     "text": [
      "set - {1, 2, 3}\n",
      "add 4 set - {1, 2, 3, 4}\n",
      "add 4 again set - {1, 2, 3, 4}\n",
      "clear set - set()\n",
      "copy set - {1, 2, 3}\n",
      "Original add 4 set - {1, 2, 3, 4}\n",
      "copy set - {1, 2, 3}\n",
      "Difference between s1 and s2 - {4}\n",
      "Value of set s1 post update - {4}\n",
      "Value of set s1 post discard - {1, 3, 4}\n",
      "Value of s1 - {1, 2, 3, 4}\n",
      "Intersect s1 and s2 - {1, 2, 3}\n",
      "Value of s1 - {1, 2, 3}\n",
      "Intersect s1 post update - {1, 2, 3}\n",
      "Is s1 disjoint with s2 - False\n",
      "Is s1 disjoint with s3 - True\n",
      "Is s2 subset of s1 - True\n",
      "Is s1 superset of s2 - True\n",
      "Symmetric difference between s1 and s2 - {4}\n",
      "Update to s1 with Symmetric difference between s1 and s2 - {4}\n",
      "Union of s1 and s2 - {1, 2, 3, 4}\n",
      "s1 - {1, 2, 3, 4}\n",
      "Update s1 post Union of s1 and s2 - {1, 2, 3, 4}\n"
     ]
    }
   ],
   "source": [
    "s={1,2,3}\n",
    "print(\"set - \"+str(s))\n",
    "s.add(4)\n",
    "print(\"add 4 set - \"+str(s))\n",
    "s.add(4)\n",
    "print(\"add 4 again set - \"+str(s))\n",
    "\n",
    "s.clear()\n",
    "print(\"clear set - \"+str(s))\n",
    "\n",
    "s={1,2,3}\n",
    "sc=s.copy()\n",
    "print(\"copy set - \"+str(sc))\n",
    "s.add(4)\n",
    "print(\"Original add 4 set - \"+str(s))\n",
    "print(\"copy set - \"+str(sc))\n",
    "\n",
    "s1={1,2,3,4}\n",
    "s2={1,2,3}\n",
    "print(\"Difference between s1 and s2 - \"+str(s1.difference(s2)))\n",
    "s1.difference_update(s2)\n",
    "print(\"Value of set s1 post update - \"+str(s1))\n",
    "\n",
    "s1={1,2,3,4}\n",
    "s2={1,2,3}\n",
    "s1.discard(2)\n",
    "print(\"Value of set s1 post discard - \"+str(s1))\n",
    "\n",
    "s1={1,2,3,4}\n",
    "s2={1,2,3}\n",
    "s1.intersection(s2)\n",
    "print(\"Value of s1 - \"+str(s1))\n",
    "print(\"Intersect s1 and s2 - \"+str(s1.intersection(s2)))\n",
    "\n",
    "s1={1,2,3,4}\n",
    "s2={1,2,3}\n",
    "s1.intersection_update(s2)\n",
    "print(\"Value of s1 - \"+str(s1))\n",
    "print(\"Intersect s1 post update - \"+str(s1))\n",
    "\n",
    "\n",
    "s1={1,2,3,4}\n",
    "s2={1,2,3}\n",
    "s3={7}\n",
    "print(\"Is s1 disjoint with s2 - \"+str(s1.isdisjoint(s2)))\n",
    "print(\"Is s1 disjoint with s3 - \"+str(s1.isdisjoint(s3)))\n",
    "\n",
    "\n",
    "s1={1,2,3,4}\n",
    "s2={1,2,3}\n",
    "s3={7}\n",
    "print(\"Is s2 subset of s1 - \"+str(s2.issubset(s1)))\n",
    "print(\"Is s1 superset of s2 - \"+str(s1.issuperset(s2)))\n",
    "\n",
    "s1={1,2,3,4}\n",
    "s2={1,2,3}\n",
    "print(\"Symmetric difference between s1 and s2 - \"+str(s1.symmetric_difference(s2)))\n",
    "\n",
    "\n",
    "s1={1,2,3,4}\n",
    "s2={1,2,3}\n",
    "s1.symmetric_difference_update(s2)\n",
    "print(\"Update to s1 with Symmetric difference between s1 and s2 - \"+str(s1))\n",
    "\n",
    "s1={1,2,3,4}\n",
    "s2={1,2,3}\n",
    "s1.union(s2)\n",
    "print(\"Union of s1 and s2 - \"+str(s1.union(s2)))\n",
    "print(\"s1 - \"+str(s1))\n",
    "\n",
    "s1={1,2,3,4}\n",
    "s2={1,2,3}\n",
    "s1.update(s2)\n",
    "print(\"Update s1 post Union of s1 and s2 - \"+str(s1))\n"
   ]
  },
  {
   "cell_type": "markdown",
   "id": "1f9d1bf1-0fd8-4764-b62d-e8da022b2ab8",
   "metadata": {},
   "source": [
    "## Advanced Datatype -List"
   ]
  },
  {
   "cell_type": "code",
   "execution_count": 35,
   "id": "f61acea4-0ced-4197-84bc-b1bb55d24032",
   "metadata": {},
   "outputs": [
    {
     "name": "stdout",
     "output_type": "stream",
     "text": [
      "[1, 2, 3, 4]\n",
      "[1, 2, 3, 4, 5]\n",
      "1\n",
      "[1, 2, 3, 4, [6, 7]]\n",
      "[1, 2, 3, 4, 6, 7]\n",
      "1\n",
      "[1, 2, 'Inserted', 3, 4]\n",
      "[1, 2, 3]\n",
      "[1, 2, 4]\n",
      "[4, 3, 2, 1]\n",
      "[1, 2, 3, 4]\n",
      "[1, 3, 4]\n",
      "[1, 2, 4]\n"
     ]
    }
   ],
   "source": [
    "mylist=[1,2,3,4]\n",
    "print(mylist)\n",
    "mylist=[1,2,3,4]\n",
    "mylist.append(5)\n",
    "print(mylist)\n",
    "print(str(mylist.count(2)))\n",
    "mylist=[1,2,3,4]\n",
    "mylist.append([6,7])\n",
    "print(mylist)\n",
    "mylist=[1,2,3,4]\n",
    "mylist.extend([6,7])\n",
    "print(mylist)\n",
    "mylist=[1,2,3,4]\n",
    "print(mylist.index(2))\n",
    "mylist=[1,2,3,4]\n",
    "mylist.insert(2,'Inserted')\n",
    "print(mylist)\n",
    "\n",
    "mylist=[1,2,3,4]\n",
    "mylist.pop()\n",
    "print(mylist)\n",
    "mylist=[1,2,3,4]\n",
    "mylist.pop(2)\n",
    "print(mylist)\n",
    "mylist=[1,2,3,4]\n",
    "mylist.reverse()\n",
    "print(mylist)\n",
    "mylist=[1,3,2,4]\n",
    "mylist.sort()\n",
    "print(mylist)\n",
    "mylist=[1,2,3,4]\n",
    "mylist.remove(2)\n",
    "print(mylist)\n",
    "mylist=[1,2,2,4]\n",
    "mylist.remove(2)\n",
    "print(mylist)\n"
   ]
  },
  {
   "cell_type": "markdown",
   "id": "a9b36dfa-b1d4-4a0d-901a-9b0b8d4e3e49",
   "metadata": {},
   "source": [
    "## Advanced Datatype - Dict"
   ]
  },
  {
   "cell_type": "code",
   "execution_count": 36,
   "id": "cd12f90d-0ec6-4fd1-bf76-21e8f419c045",
   "metadata": {},
   "outputs": [
    {
     "name": "stdout",
     "output_type": "stream",
     "text": [
      "Original Dict  {'K1': 1, 'K2': 2}\n",
      "key K1\n",
      "Value 1\n",
      "key K2\n",
      "Value 2\n",
      "{'a': 0, 'b': 1}\n"
     ]
    }
   ],
   "source": [
    "mydict={'K1':1,'K2':2}\n",
    "print(\"Original Dict  \"+str(mydict))\n",
    "for k,v in mydict.items():\n",
    "\tprint(\"key \"+str(k))\n",
    "\tprint(\"Value \"+str(v))\n",
    "\n",
    "print(str({k:v**2 for k,v in zip(['a','b'], range(2))}))"
   ]
  },
  {
   "cell_type": "markdown",
   "id": "eb8783dc-1d28-4827-9ec1-b64c096bda57",
   "metadata": {},
   "source": [
    "## Python Debugger"
   ]
  },
  {
   "cell_type": "code",
   "execution_count": 1,
   "id": "68d22c68-989b-4ab3-87f7-db8cc1fbcd65",
   "metadata": {},
   "outputs": [
    {
     "name": "stdout",
     "output_type": "stream",
     "text": [
      "0\n",
      "1\n",
      "2\n",
      "3\n",
      "4\n",
      "5\n",
      "6\n",
      "7\n",
      "8\n",
      "9\n"
     ]
    }
   ],
   "source": [
    "import pdb\n",
    "for i in range(10):\n",
    "\tprint(i)\n",
    "\t#pdb.set_trace()\n"
   ]
  },
  {
   "cell_type": "markdown",
   "id": "46d04d40-84e0-4221-887c-f652446118a1",
   "metadata": {},
   "source": [
    "## Python Time Code"
   ]
  },
  {
   "cell_type": "code",
   "execution_count": 2,
   "id": "c2d99082-7ecc-4f34-9410-3a1fd0a649af",
   "metadata": {},
   "outputs": [
    {
     "name": "stdout",
     "output_type": "stream",
     "text": [
      "0-1-2-3-4-5-6-7-8-9-10-11-12-13-14-15-16-17-18-19-20-21-22-23-24-25-26-27-28-29-30-31-32-33-34-35-36-37-38-39-40-41-42-43-44-45-46-47-48-49-50-51-52-53-54-55-56-57-58-59-60-61-62-63-64-65-66-67-68-69-70-71-72-73-74-75-76-77-78-79-80-81-82-83-84-85-86-87-88-89-90-91-92-93-94-95-96-97-98-99\n",
      "instance 1  0.011306600004900247\n",
      "0-1-2-3-4-5-6-7-8-9-10-11-12-13-14-15-16-17-18-19-20-21-22-23-24-25-26-27-28-29-30-31-32-33-34-35-36-37-38-39-40-41-42-43-44-45-46-47-48-49-50-51-52-53-54-55-56-57-58-59-60-61-62-63-64-65-66-67-68-69-70-71-72-73-74-75-76-77-78-79-80-81-82-83-84-85-86-87-88-89-90-91-92-93-94-95-96-97-98-99\n",
      "instance 2  0.009702100011054426\n",
      "0-1-2-3-4-5-6-7-8-9-10-11-12-13-14-15-16-17-18-19-20-21-22-23-24-25-26-27-28-29-30-31-32-33-34-35-36-37-38-39-40-41-42-43-44-45-46-47-48-49-50-51-52-53-54-55-56-57-58-59-60-61-62-63-64-65-66-67-68-69-70-71-72-73-74-75-76-77-78-79-80-81-82-83-84-85-86-87-88-89-90-91-92-93-94-95-96-97-98-99\n",
      "instance 3  0.008440000005066395\n"
     ]
    }
   ],
   "source": [
    "import timeit\n",
    "x='-'.join(str(n) for n in range(100))\n",
    "print(x)\n",
    "print(\"instance 1  \"+ str(timeit.timeit('-'.join(str(n) for n in range(100)))))\n",
    "x='-'.join([str(n) for n in range(100)])\n",
    "print(x)\n",
    "print(\"instance 2  \"+ str(timeit.timeit('-'.join([str(n) for n in range(100)]))))\n",
    "x='-'.join(map(str,range(100)))\n",
    "print(x)\n",
    "print(\"instance 3  \"+ str(timeit.timeit('-'.join(map(str,range(100))))))"
   ]
  },
  {
   "cell_type": "markdown",
   "id": "92fe5678-ee88-4b8a-a54f-7682f706d849",
   "metadata": {},
   "source": [
    "## Regular Expresssion"
   ]
  },
  {
   "cell_type": "code",
   "execution_count": 4,
   "id": "06158e58-7df3-46ad-a23e-e2181ced6b1f",
   "metadata": {},
   "outputs": [
    {
     "name": "stdout",
     "output_type": "stream",
     "text": [
      "Match Found\n",
      "Match Not Found\n",
      "Match Start 23\n",
      "Match End 28\n",
      "['What is your email is it jello', 'gmail.com']\n",
      "What is your email is it jello\n",
      "gmail.com\n",
      "2\n",
      "----------------------------------------------------------------\n",
      "sd\n",
      "sd\n",
      "s\n",
      "s\n",
      "sddd\n",
      "sddd\n",
      "sddd\n",
      "sd\n",
      "s\n",
      "s\n",
      "s\n",
      "s\n",
      "s\n",
      "s\n",
      "sddd\n",
      "----------------------------------------------------------------\n",
      "sd\n",
      "sd\n",
      "sddd\n",
      "sddd\n",
      "sddd\n",
      "sd\n",
      "sddd\n",
      "----------------------------------------------------------------\n",
      "sd\n",
      "sd\n",
      "s\n",
      "s\n",
      "sd\n",
      "sd\n",
      "sd\n",
      "sd\n",
      "s\n",
      "s\n",
      "s\n",
      "s\n",
      "s\n",
      "s\n",
      "sd\n",
      "----------------------------------------------------------------\n",
      "sddd\n",
      "sddd\n",
      "sddd\n",
      "sddd\n",
      "----------------------------------------------------------------\n",
      "sddd\n",
      "sddd\n",
      "sddd\n",
      "sddd\n",
      "----------------------------------------------------------------\n",
      "s\n",
      "d\n",
      "s\n",
      "d\n",
      "s\n",
      "s\n",
      "s\n",
      "d\n",
      "d\n",
      "d\n",
      "s\n",
      "d\n",
      "d\n",
      "d\n",
      "s\n",
      "d\n",
      "d\n",
      "d\n",
      "d\n",
      "s\n",
      "d\n",
      "s\n",
      "d\n",
      "s\n",
      "s\n",
      "s\n",
      "s\n",
      "s\n",
      "s\n",
      "d\n",
      "d\n",
      "d\n",
      "----------------------------------------------------------------\n",
      "sdsd\n",
      "sssddd\n",
      "sdddsddd\n",
      "sds\n",
      "sssss\n",
      "sddd\n",
      "----------------------------------------------------------------\n",
      "sdsd\n",
      "sssddd\n",
      "sdddsddd\n",
      "sds\n",
      "sssss\n",
      "sddd\n",
      "----------------------------------------------------------------\n",
      "sdsd \n",
      "sssddd\n",
      "sdddsddd\n",
      "dsds\n",
      "dsssss\n",
      "sddd\n",
      "----------------------------------------------------------------\n",
      "sdsd\n",
      "sssddd\n",
      "sdddsddd\n",
      "dsds\n",
      "dsssss\n",
      "sddd\n",
      "----------------------------------------------------------------\n",
      "sdsd\n",
      "sssddd\n",
      "sdddsddd\n",
      "dsds\n",
      "dsssss\n",
      "sddd\n",
      "----------------------------------------------------------------\n",
      "----------------------------------------------------------------\n",
      "sdsd ..sssddd...sdddsddd...dsds...dsssss...sddd\n",
      "----------------------------------------------------------------\n",
      "----------------------------------------------------------------\n",
      " \n",
      "----------------------------------------------------------------\n",
      "sdsd\n",
      "..sssddd...sdddsddd...dsds...dsssss...sddd\n",
      "----------------------------------------------------------------\n",
      "sdsd\n",
      "sssddd\n",
      "sdddsddd\n",
      "dsds\n",
      "dsssss\n",
      "sddd\n",
      "----------------------------------------------------------------\n",
      " ..\n",
      "...\n",
      "...\n",
      "...\n",
      "...\n"
     ]
    }
   ],
   "source": [
    "import re\n",
    "pattern = ['term1','term2']\n",
    "text=\"This is the string for term1 and not for other term\"\n",
    "for pat in pattern:\n",
    "\tif re.search(pat,text):\n",
    "\t\tprint(\"Match Found\")\n",
    "\telse:\n",
    "\t\tprint(\"Match Not Found\")\t\n",
    "\n",
    "import re\n",
    "pattern = ['term1','term2']\n",
    "text=\"This is the string for term1 and not for other term\"\n",
    "out=re.search(pattern[0],text)\n",
    "print(\"Match Start \"+str(out.start()))\n",
    "print(\"Match End \"+str(out.end()))\n",
    "\n",
    "split_term='@'\n",
    "phrase='What is your email is it jello@gmail.com'\n",
    "out=re.split(split_term,phrase)\n",
    "print(out)\n",
    "for v in out:\n",
    "\tprint(v)\n",
    "\n",
    "phrase='What is your email is it jello@gmail.com'\n",
    "out=len(re.findall('mail',phrase))\n",
    "print(out)\t\n",
    "\n",
    "phrase='sdsd ..sssddd...sdddsddd...dsds...dsssss...sddd'\n",
    "out=re.findall('sd*',phrase)\n",
    "print('----------------------------------------------------------------')\n",
    "for v in out:\n",
    "\tprint(v)\n",
    "\n",
    "phrase='sdsd ..sssddd...sdddsddd...dsds...dsssss...sddd'\n",
    "out=re.findall('sd+',phrase)\n",
    "print('----------------------------------------------------------------')\n",
    "for v in out:\n",
    "\tprint(v)\t\n",
    "\n",
    "\n",
    "phrase='sdsd ..sssddd...sdddsddd...dsds...dsssss...sddd'\n",
    "out=re.findall('sd?',phrase)\n",
    "print('----------------------------------------------------------------')\n",
    "for v in out:\n",
    "\tprint(v)\t\n",
    "\n",
    "phrase='sdsd ..sssddd...sdddsddd...dsds...dsssss...sddd'\n",
    "out=re.findall('sd{3}',phrase)\n",
    "print('----------------------------------------------------------------')\n",
    "for v in out:\n",
    "\tprint(v)\t\t\n",
    "\n",
    "phrase='sdsd ..sssddd...sdddsddd...dsds...dsssss...sddd'\n",
    "out=re.findall('sd{2,3}',phrase)\n",
    "print('----------------------------------------------------------------')\n",
    "for v in out:\n",
    "\tprint(v)\t\t\t\n",
    "\n",
    "phrase='sdsd ..sssddd...sdddsddd...dsds...dsssss...sddd'\n",
    "out=re.findall('[sd]',phrase)\n",
    "print('----------------------------------------------------------------')\n",
    "for v in out:\n",
    "\tprint(v)\t\t\t\n",
    "\n",
    "phrase='sdsd ..sssddd...sdddsddd...dsds...dsssss...sddd'\n",
    "out=re.findall('s[sd]+',phrase)\n",
    "print('----------------------------------------------------------------')\n",
    "for v in out:\n",
    "\tprint(v)\t\n",
    "\n",
    "phrase='sdsd ..sssddd...sdddsddd...dsds...dsssss...sddd'\n",
    "out=re.findall('s[sd]+',phrase)\n",
    "print('----------------------------------------------------------------')\n",
    "for v in out:\n",
    "\tprint(v)\t\n",
    "\n",
    "phrase='sdsd ..sssddd...sdddsddd...dsds...dsssss...sddd'\n",
    "out=re.findall('[^.]+',phrase)\n",
    "print('----------------------------------------------------------------')\n",
    "for v in out:\n",
    "\tprint(v)\t\n",
    "\n",
    "phrase='sdsd ..sssddd...sdddsddd...dsds...dsssss...sddd'\n",
    "out=re.findall('[a-z]+',phrase)\n",
    "print('----------------------------------------------------------------')\n",
    "for v in out:\n",
    "\tprint(v)\n",
    "\n",
    "phrase='sdsd ..sssddd...sdddsddd...dsds...dsssss...sddd'\n",
    "out=re.findall('[a-zA-Z]+',phrase)\n",
    "print('----------------------------------------------------------------')\n",
    "for v in out:\n",
    "\tprint(v)\t\t\n",
    "\n",
    "phrase='sdsd ..sssddd...sdddsddd...dsds...dsssss...sddd'\n",
    "out=re.findall('[a-z][A-Z]+',phrase)\n",
    "print('----------------------------------------------------------------')\n",
    "for v in out:\n",
    "\tprint(v)\t\t\t\n",
    "\n",
    "phrase='sdsd ..sssddd...sdddsddd...dsds...dsssss...sddd'\n",
    "out=re.findall(r'\\D+',phrase)\n",
    "print('----------------------------------------------------------------')\n",
    "for v in out:\n",
    "\tprint(v)\t\t\t\t\n",
    "\n",
    "\n",
    "phrase='sdsd ..sssddd...sdddsddd...dsds...dsssss...sddd'\n",
    "out=re.findall(r'\\d+',phrase)\n",
    "print('----------------------------------------------------------------')\n",
    "for v in out:\n",
    "\tprint(v)\n",
    "\n",
    "phrase='sdsd ..sssddd...sdddsddd...dsds...dsssss...sddd'\n",
    "out=re.findall(r'\\s+',phrase)\n",
    "print('----------------------------------------------------------------')\n",
    "for v in out:\n",
    "\tprint(v)\t\t\t\t\t\t\t\t\t\t\t\n",
    "\n",
    "phrase='sdsd ..sssddd...sdddsddd...dsds...dsssss...sddd'\n",
    "out=re.findall(r'\\S+',phrase)\n",
    "print('----------------------------------------------------------------')\n",
    "for v in out:\n",
    "\tprint(v)\t\t\n",
    "\n",
    "phrase='sdsd ..sssddd...sdddsddd...dsds...dsssss...sddd'\n",
    "out=re.findall(r'\\w+',phrase)\n",
    "print('----------------------------------------------------------------')\n",
    "for v in out:\n",
    "\tprint(v)\t\t\n",
    "\n",
    "\n",
    "phrase='sdsd ..sssddd...sdddsddd...dsds...dsssss...sddd'\n",
    "out=re.findall(r'\\W+',phrase)\n",
    "print('----------------------------------------------------------------')\n",
    "for v in out:\n",
    "\tprint(v)\t\t\t\t\t\t\t\t\t\t\t\t"
   ]
  },
  {
   "cell_type": "code",
   "execution_count": null,
   "id": "011d528c-10e6-48f1-bcea-8275142a5011",
   "metadata": {},
   "outputs": [],
   "source": []
  }
 ],
 "metadata": {
  "kernelspec": {
   "display_name": "Python 3 (ipykernel)",
   "language": "python",
   "name": "python3"
  },
  "language_info": {
   "codemirror_mode": {
    "name": "ipython",
    "version": 3
   },
   "file_extension": ".py",
   "mimetype": "text/x-python",
   "name": "python",
   "nbconvert_exporter": "python",
   "pygments_lexer": "ipython3",
   "version": "3.12.3"
  }
 },
 "nbformat": 4,
 "nbformat_minor": 5
}
